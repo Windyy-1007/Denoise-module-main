{
 "cells": [
  {
   "cell_type": "markdown",
   "id": "22b6bfd5-6965-4d54-9300-692f7c45bdee",
   "metadata": {},
   "source": [
    "### Import necessary Library"
   ]
  },
  {
   "cell_type": "code",
   "execution_count": 2,
   "id": "cc2f3f42-78af-4aeb-8f12-e4cd7f45ba81",
   "metadata": {
    "scrolled": true
   },
   "outputs": [
    {
     "name": "stdout",
     "output_type": "stream",
     "text": [
      "2.3.1+cpu\n",
      "2.3.1+cpu\n"
     ]
    },
    {
     "name": "stderr",
     "output_type": "stream",
     "text": [
      "c:\\Projects\\Denoise-module-main\\Denoise-module-main\\FRCRN_denoise\\noise_addition_utils.py:15: UserWarning: torchaudio._backend.set_audio_backend has been deprecated. With dispatcher enabled, this function is no-op. You can remove the function call.\n",
      "  torchaudio.set_audio_backend(\"soundfile\")\n"
     ]
    }
   ],
   "source": [
    "import io\n",
    "import os\n",
    "import sys\n",
    "import math\n",
    "#import tarfile\n",
    "import multiprocessing\n",
    "\n",
    "import scipy\n",
    "import librosa\n",
    "import soundfile as sf\n",
    "\n",
    "import requests\n",
    "import matplotlib\n",
    "import matplotlib.pyplot as plt\n",
    "import pandas as pd\n",
    "import numpy as np\n",
    "import time\n",
    "from IPython.display import Audio, display\n",
    "\n",
    "import torch\n",
    "import torchaudio\n",
    "import torchaudio.functional as F\n",
    "import torchaudio.transforms as T\n",
    "\n",
    "import parselmouth\n",
    "from parselmouth.praat import call\n",
    "from pathlib import Path\n",
    "\n",
    "from metrics import AudioMetrics\n",
    "from metrics import AudioMetrics2\n",
    "#from Audio_metrics import AudioMetrics2\n",
    "import noise_addition_utils\n",
    "from pypesq import pesq\n",
    "import shutil\n",
    "\n",
    "print(torch.__version__)\n",
    "print(torchaudio.__version__)"
   ]
  },
  {
   "cell_type": "code",
   "execution_count": 10,
   "id": "a30e4c0c-8271-46c7-9e0c-78ad266f4b5c",
   "metadata": {},
   "outputs": [],
   "source": [
    "#-------------------------------------------------------------------------------\n",
    "# Helper functions.\n",
    "#-------------------------------------------------------------------------------\n",
    "\n",
    "def denoise_audio(input_path, output_path, smoothing_factor):\n",
    "    # Load the audio file\n",
    "    snd = parselmouth.Sound(input_path)\n",
    "\n",
    "    # Apply smoothing to reduce noise\n",
    "    snd_denoised = snd.copy()\n",
    "    #snd_denoised = call(snd_denoised, \"Smooth\", smoothing_factor)\n",
    "    snd_denoised = call(snd_denoised, \"Reduce noise\", 0.0, 0.0, 0.025, 80.0, 10000.0, 40.0,-20, \"Spectral-subtraction\")\n",
    "    # Save the denoised audio\n",
    "    snd_denoised.save(output_path, \"WAV\")\n",
    "def get_stats(waveform, sample_rate=None, src=None):\n",
    "    max_ = waveform.max().numpy()\n",
    "    min_ = waveform.min().numpy()\n",
    "    mean_ = waveform.mean().numpy()\n",
    "    std_ = waveform.std().numpy()\n",
    "    return max_,min_,mean_,std_\n",
    "\n",
    "def print_stats(waveform, sample_rate=None, src=None):\n",
    "    if src:\n",
    "        print(\"-\" * 10)\n",
    "        print(\"Source:\", src)\n",
    "        print(\"-\" * 10)\n",
    "    if sample_rate:\n",
    "        print(\"Sample Rate:\", sample_rate)\n",
    "        print(\"Shape:\", tuple(waveform.shape))\n",
    "        print(\"Dtype:\", waveform.dtype)\n",
    "        print(f\" - Max:     {waveform.max().item():6.3f}\")\n",
    "        print(f\" - Min:     {waveform.min().item():6.3f}\")\n",
    "        print(f\" - Mean:    {waveform.mean().item():6.3f}\")\n",
    "        print(f\" - Std Dev: {waveform.std().item():6.3f}\")\n",
    "        print()\n",
    "        print(waveform)\n",
    "        print()\n",
    "    # max_ = waveform.max().numpy()\n",
    "    # min_ = waveform.min().numpy()\n",
    "    # mean_ = waveform.mean().numpy()\n",
    "    # std_ = waveform.std().numpy()\n",
    "    # return max_,min_,mean_,std_\n",
    "\n",
    "def plot_waveform(waveform, sample_rate, title=\"Waveform\", xlim=None, ylim=None):\n",
    "  waveform = waveform.numpy()\n",
    "\n",
    "  num_channels, num_frames = waveform.shape\n",
    "  time_axis = torch.arange(0, num_frames) / sample_rate\n",
    "\n",
    "  figure, axes = plt.subplots(num_channels, 1)\n",
    "  if num_channels == 1:\n",
    "    axes = [axes]\n",
    "  for c in range(num_channels):\n",
    "    axes[c].plot(time_axis, waveform[c], linewidth=1)\n",
    "    axes[c].grid(True)\n",
    "    if num_channels > 1:\n",
    "      axes[c].set_ylabel(f'Channel {c+1}')\n",
    "    if xlim:\n",
    "      axes[c].set_xlim(xlim)\n",
    "    if ylim:\n",
    "      axes[c].set_ylim(ylim)\n",
    "  figure.suptitle(title)\n",
    "  plt.show(block=False)\n",
    "\n",
    "def plot_specgram(waveform, sample_rate, title=\"Spectrogram\", xlim=None):\n",
    "  waveform = waveform.numpy()\n",
    "  num_channels, num_frames = waveform.shape\n",
    "  time_axis = torch.arange(0, num_frames) / sample_rate\n",
    "  figure, axes = plt.subplots(num_channels, 1)\n",
    "  if num_channels == 1:\n",
    "    axes = [axes]\n",
    "  for c in range(num_channels):\n",
    "    axes[c].specgram(waveform[c], Fs=sample_rate)\n",
    "    if num_channels > 1:\n",
    "      axes[c].set_ylabel(f'Channel {c+1}')\n",
    "    if xlim:\n",
    "      axes[c].set_xlim(xlim)\n",
    "  figure.suptitle(title)\n",
    "  plt.show(block=False)\n",
    "\n",
    "def play_audio(waveform, sample_rate):\n",
    "  waveform = waveform.numpy()\n",
    "  num_channels, num_frames = waveform.shape\n",
    "  if num_channels == 1:\n",
    "    display(Audio(waveform[0], rate=sample_rate))\n",
    "  elif num_channels == 2:\n",
    "    display(Audio((waveform[0], waveform[1]), rate=sample_rate))\n",
    "  else:\n",
    "    raise ValueError(\"Waveform with more than 2 channels are not supported.\")\n",
    "\n",
    "def plot_spectrogram(spec, title=None, ylabel='freq_bin', aspect='auto', xmax=None):\n",
    "  fig, axs = plt.subplots(1, 1)\n",
    "  axs.set_title(title or 'Spectrogram (db)')\n",
    "  axs.set_ylabel(ylabel)\n",
    "  axs.set_xlabel('frame')\n",
    "  im = axs.imshow(librosa.power_to_db(spec), origin='lower', aspect=aspect)\n",
    "  if xmax:\n",
    "    axs.set_xlim((0, xmax))\n",
    "  fig.colorbar(im, ax=axs)\n",
    "  plt.show(block=False)\n",
    "\n",
    "def get_spectrogram(\n",
    "    n_fft = 400,\n",
    "    win_len = None,\n",
    "    hop_len = None,\n",
    "    power = 2.0,\n",
    "):\n",
    "  waveform, _ = get_speech_sample()\n",
    "  spectrogram = T.Spectrogram(\n",
    "      n_fft=n_fft,\n",
    "      win_length=win_len,\n",
    "      hop_length=hop_len,\n",
    "      center=True,\n",
    "      pad_mode=\"reflect\",\n",
    "      power=power,\n",
    "  )\n",
    "  return spectrogram(waveform)\n",
    "def resample_wav_files(input_path, output_path, target_sr):\n",
    "    # Create the output directory if it doesn't exist\n",
    "    os.makedirs(output_path, exist_ok=True)\n",
    "\n",
    "    # Get a list of all WAV files in the input directory and its subfolders\n",
    "    for root, dirs, files in os.walk(input_path):\n",
    "        for file_name in files:\n",
    "            if file_name.endswith('.wav'):\n",
    "                # Read the input WAV file\n",
    "                input_file = os.path.join(root, file_name)\n",
    "                audio, sr = librosa.load(input_file, sr=target_sr)\n",
    "\n",
    "                # Write the resampled audio to the output WAV file\n",
    "                output_dir = os.path.join(output_path, os.path.relpath(root, input_path))\n",
    "                os.makedirs(output_dir, exist_ok=True)\n",
    "                output_file = os.path.join(output_dir, file_name)\n",
    "                sf.write(output_file, audio, target_sr)\n",
    "def copy_wav_files_to_single_directory(input_path, output_path):\n",
    "    # Create the output directory if it doesn't exist\n",
    "    os.makedirs(output_path, exist_ok=True)\n",
    "\n",
    "    # Get a list of all WAV files in the input directory and its subfolders\n",
    "    for root, dirs, files in os.walk(input_path):\n",
    "        for file_name in files:\n",
    "            if file_name.endswith('.wav'):\n",
    "                # Copy the WAV file to the output directory with the original filename\n",
    "                input_file = os.path.join(root, file_name)\n",
    "                output_file = os.path.join(output_path, file_name)\n",
    "                shutil.copy2(input_file, output_file)"
   ]
  },
  {
   "cell_type": "markdown",
   "id": "78ff8aa7-a05d-4d2c-9f26-e23070505318",
   "metadata": {},
   "source": [
    "### Spectral Subtraction method"
   ]
  },
  {
   "cell_type": "markdown",
   "id": "908405dd-421d-41b5-8c50-2893fb299d81",
   "metadata": {},
   "source": [
    "#### Define the path to denoise "
   ]
  },
  {
   "cell_type": "code",
   "execution_count": 11,
   "id": "9c40240e-bf2c-496f-94fc-460d8b9087b2",
   "metadata": {},
   "outputs": [
    {
     "data": {
      "text/plain": [
       "WindowsPath('C:/Projects/Denoise-module-main/Denoise-module-main/Test/0001.1.wav')"
      ]
     },
     "execution_count": 11,
     "metadata": {},
     "output_type": "execute_result"
    }
   ],
   "source": [
    "bahna_dataset = sorted(list(Path(r\"C:\\Projects\\Denoise-module-main\\Denoise-module-main\\Test\").rglob('*.wav')))\n",
    "bahna_dataset[0]"
   ]
  },
  {
   "cell_type": "code",
   "execution_count": 12,
   "id": "1d6755c0-a67e-4637-9416-8e68184977ba",
   "metadata": {},
   "outputs": [
    {
     "data": {
      "text/html": [
       "<div>\n",
       "<style scoped>\n",
       "    .dataframe tbody tr th:only-of-type {\n",
       "        vertical-align: middle;\n",
       "    }\n",
       "\n",
       "    .dataframe tbody tr th {\n",
       "        vertical-align: top;\n",
       "    }\n",
       "\n",
       "    .dataframe thead th {\n",
       "        text-align: right;\n",
       "    }\n",
       "</style>\n",
       "<table border=\"1\" class=\"dataframe\">\n",
       "  <thead>\n",
       "    <tr style=\"text-align: right;\">\n",
       "      <th></th>\n",
       "      <th>Name</th>\n",
       "      <th>Max</th>\n",
       "      <th>Min</th>\n",
       "      <th>Mean</th>\n",
       "      <th>Std</th>\n",
       "      <th>Noise_level_before_denoised</th>\n",
       "      <th>Max_after_denoised</th>\n",
       "      <th>Min_after_denoised</th>\n",
       "      <th>Mean_after_denoised</th>\n",
       "      <th>Std_after_denoised</th>\n",
       "      <th>Noise_level_after_denoised</th>\n",
       "    </tr>\n",
       "  </thead>\n",
       "  <tbody>\n",
       "  </tbody>\n",
       "</table>\n",
       "</div>"
      ],
      "text/plain": [
       "Empty DataFrame\n",
       "Columns: [Name, Max, Min, Mean, Std, Noise_level_before_denoised, Max_after_denoised, Min_after_denoised, Mean_after_denoised, Std_after_denoised, Noise_level_after_denoised]\n",
       "Index: []"
      ]
     },
     "execution_count": 12,
     "metadata": {},
     "output_type": "execute_result"
    }
   ],
   "source": [
    "# dataframe to record statistics\n",
    "stat_bahna_spectral_subtraction = pd.DataFrame(columns=['Name','Max', 'Min', 'Mean','Std','Noise_level_before_denoised','Max_after_denoised', 'Min_after_denoised', 'Mean_after_denoised','Std_after_denoised','Noise_level_after_denoised'])\n",
    "stat_bahna_spectral_subtraction"
   ]
  },
  {
   "cell_type": "code",
   "execution_count": 13,
   "id": "2c68dd6d-f6f7-43c7-a748-9e6d1215d321",
   "metadata": {},
   "outputs": [
    {
     "name": "stdout",
     "output_type": "stream",
     "text": [
      "C:\\Projects\\Denoise-module-main\\Denoise-module-main\\Test\\0001.1.wav\n",
      "C:\\Projects\\Denoise-module-main\\Denoise-module-main\\Test\\0001.1_denoised_spectral_subtraction.wav\n",
      "C:\\Projects\\Denoise-module-main\\Denoise-module-main\\Test\\0001.2.wav\n",
      "C:\\Projects\\Denoise-module-main\\Denoise-module-main\\Test\\0001.2_denoised_spectral_subtraction.wav\n",
      "C:\\Projects\\Denoise-module-main\\Denoise-module-main\\Test\\0001.3.wav\n",
      "C:\\Projects\\Denoise-module-main\\Denoise-module-main\\Test\\0001.3_denoised_spectral_subtraction.wav\n",
      "C:\\Projects\\Denoise-module-main\\Denoise-module-main\\Test\\0001.4.wav\n",
      "C:\\Projects\\Denoise-module-main\\Denoise-module-main\\Test\\0001.4_denoised_spectral_subtraction.wav\n",
      "C:\\Projects\\Denoise-module-main\\Denoise-module-main\\Test\\0001.5.wav\n",
      "C:\\Projects\\Denoise-module-main\\Denoise-module-main\\Test\\0001.5_denoised_spectral_subtraction.wav\n"
     ]
    },
    {
     "name": "stderr",
     "output_type": "stream",
     "text": [
      "C:\\Users\\nghna\\AppData\\Local\\Temp\\ipykernel_15908\\3705012350.py:27: FutureWarning: The behavior of DataFrame concatenation with empty or all-NA entries is deprecated. In a future version, this will no longer exclude empty or all-NA columns when determining the result dtypes. To retain the old behavior, exclude the relevant entries before the concat operation.\n",
      "  stat_bahna_spectral_subtraction=pd.concat([stat_bahna_spectral_subtraction,df], ignore_index=True)\n"
     ]
    }
   ],
   "source": [
    "#Load file to denoise\n",
    "for i in bahna_dataset:\n",
    "    print(i)\n",
    "    waveform, sample_rate = torchaudio.load(i)\n",
    "    max_,min_,mean_,std_ = get_stats(waveform, sample_rate = sample_rate)\n",
    "    # Calculate noise level\n",
    "    if std_!=0 :\n",
    "        noise_level = 20*( np.log10(std_/max_))\n",
    "    else:\n",
    "        noise_level = 0\n",
    "    normalized_path = os.path.normpath(i)\n",
    "    input_path = os.path.splitext(normalized_path)[0] + os.path.splitext(normalized_path)[1]\n",
    "    denoised_path = os.path.splitext(normalized_path)[0] + \"_denoised_spectral_subtraction\" + os.path.splitext(normalized_path)[1]\n",
    "    snd = parselmouth.Sound(input_path)\n",
    "    snd_denoised = snd.copy()\n",
    "    snd_denoised = call(snd_denoised, \"Reduce noise\", 0.0, 0.0, 0.025, 80.0, 10000.0, 40.0,noise_level, \"Spectral-subtraction\")\n",
    "    # Save the denoised audio\n",
    "    snd_denoised.save(denoised_path, \"WAV\")\n",
    "    print(denoised_path)\n",
    "    waveform_denoised, sample_rate_denoised = torchaudio.load(denoised_path)\n",
    "    max_after,min_after,mean_after,std_after=get_stats(waveform_denoised, sample_rate=sample_rate_denoised)\n",
    "    if std_after!=0 :\n",
    "        noise_level_after = 10*( np.log10(std_after/max_after))\n",
    "    else:\n",
    "        noise_level_after = 0\n",
    "    df = pd.DataFrame({\"Name\":[i],\"Max\":[max_],\"Min\":[min_],\"Mean\":[mean_],\"Std\":[std_],\"Noise_level_before_denoised\":[noise_level],'Max_after_denoised':[max_after], 'Min_after_denoised':[min_after], 'Mean_after_denoised':[mean_after],'Std_after_denoised':[std_after],'Noise_level_after_denoised':[noise_level_after]})\n",
    "    stat_bahna_spectral_subtraction=pd.concat([stat_bahna_spectral_subtraction,df], ignore_index=True)\n",
    "    "
   ]
  },
  {
   "cell_type": "code",
   "execution_count": 14,
   "id": "f4b6c8f2-cbd5-4b99-8ce1-a4f222301f80",
   "metadata": {},
   "outputs": [
    {
     "data": {
      "text/html": [
       "<div>\n",
       "<style scoped>\n",
       "    .dataframe tbody tr th:only-of-type {\n",
       "        vertical-align: middle;\n",
       "    }\n",
       "\n",
       "    .dataframe tbody tr th {\n",
       "        vertical-align: top;\n",
       "    }\n",
       "\n",
       "    .dataframe thead th {\n",
       "        text-align: right;\n",
       "    }\n",
       "</style>\n",
       "<table border=\"1\" class=\"dataframe\">\n",
       "  <thead>\n",
       "    <tr style=\"text-align: right;\">\n",
       "      <th></th>\n",
       "      <th>Name</th>\n",
       "      <th>Max</th>\n",
       "      <th>Min</th>\n",
       "      <th>Mean</th>\n",
       "      <th>Std</th>\n",
       "      <th>Noise_level_before_denoised</th>\n",
       "      <th>Max_after_denoised</th>\n",
       "      <th>Min_after_denoised</th>\n",
       "      <th>Mean_after_denoised</th>\n",
       "      <th>Std_after_denoised</th>\n",
       "      <th>Noise_level_after_denoised</th>\n",
       "    </tr>\n",
       "  </thead>\n",
       "  <tbody>\n",
       "    <tr>\n",
       "      <th>0</th>\n",
       "      <td>C:\\Projects\\Denoise-module-main\\Denoise-module...</td>\n",
       "      <td>0.6552124</td>\n",
       "      <td>-0.7651062</td>\n",
       "      <td>-3.0624975e-05</td>\n",
       "      <td>0.07685376</td>\n",
       "      <td>-18.614340</td>\n",
       "      <td>0.65423584</td>\n",
       "      <td>-0.76345825</td>\n",
       "      <td>-2.699632e-08</td>\n",
       "      <td>0.07657743</td>\n",
       "      <td>-9.316335</td>\n",
       "    </tr>\n",
       "    <tr>\n",
       "      <th>1</th>\n",
       "      <td>C:\\Projects\\Denoise-module-main\\Denoise-module...</td>\n",
       "      <td>0.55578613</td>\n",
       "      <td>-0.4998474</td>\n",
       "      <td>-3.9136925e-05</td>\n",
       "      <td>0.0951897</td>\n",
       "      <td>-15.326356</td>\n",
       "      <td>0.5375061</td>\n",
       "      <td>-0.47183228</td>\n",
       "      <td>1.0024613e-06</td>\n",
       "      <td>0.090305954</td>\n",
       "      <td>-7.746670</td>\n",
       "    </tr>\n",
       "    <tr>\n",
       "      <th>2</th>\n",
       "      <td>C:\\Projects\\Denoise-module-main\\Denoise-module...</td>\n",
       "      <td>0.47247314</td>\n",
       "      <td>-0.53967285</td>\n",
       "      <td>-2.9462188e-05</td>\n",
       "      <td>0.048951853</td>\n",
       "      <td>-19.692160</td>\n",
       "      <td>0.44641113</td>\n",
       "      <td>-0.47470093</td>\n",
       "      <td>1.3798474e-05</td>\n",
       "      <td>0.03827656</td>\n",
       "      <td>-10.668021</td>\n",
       "    </tr>\n",
       "    <tr>\n",
       "      <th>3</th>\n",
       "      <td>C:\\Projects\\Denoise-module-main\\Denoise-module...</td>\n",
       "      <td>0.4461975</td>\n",
       "      <td>-0.56170654</td>\n",
       "      <td>-4.4831922e-05</td>\n",
       "      <td>0.059409264</td>\n",
       "      <td>-17.513460</td>\n",
       "      <td>0.44207764</td>\n",
       "      <td>-0.55718994</td>\n",
       "      <td>-3.0327021e-06</td>\n",
       "      <td>0.05851719</td>\n",
       "      <td>-8.782151</td>\n",
       "    </tr>\n",
       "    <tr>\n",
       "      <th>4</th>\n",
       "      <td>C:\\Projects\\Denoise-module-main\\Denoise-module...</td>\n",
       "      <td>0.32443237</td>\n",
       "      <td>-0.37664795</td>\n",
       "      <td>-1.7288974e-05</td>\n",
       "      <td>0.046413366</td>\n",
       "      <td>-16.889622</td>\n",
       "      <td>0.32235718</td>\n",
       "      <td>-0.3694458</td>\n",
       "      <td>1.4427932e-06</td>\n",
       "      <td>0.044849005</td>\n",
       "      <td>-8.565845</td>\n",
       "    </tr>\n",
       "  </tbody>\n",
       "</table>\n",
       "</div>"
      ],
      "text/plain": [
       "                                                Name         Max          Min  \\\n",
       "0  C:\\Projects\\Denoise-module-main\\Denoise-module...   0.6552124   -0.7651062   \n",
       "1  C:\\Projects\\Denoise-module-main\\Denoise-module...  0.55578613   -0.4998474   \n",
       "2  C:\\Projects\\Denoise-module-main\\Denoise-module...  0.47247314  -0.53967285   \n",
       "3  C:\\Projects\\Denoise-module-main\\Denoise-module...   0.4461975  -0.56170654   \n",
       "4  C:\\Projects\\Denoise-module-main\\Denoise-module...  0.32443237  -0.37664795   \n",
       "\n",
       "             Mean          Std  Noise_level_before_denoised  \\\n",
       "0  -3.0624975e-05   0.07685376                   -18.614340   \n",
       "1  -3.9136925e-05    0.0951897                   -15.326356   \n",
       "2  -2.9462188e-05  0.048951853                   -19.692160   \n",
       "3  -4.4831922e-05  0.059409264                   -17.513460   \n",
       "4  -1.7288974e-05  0.046413366                   -16.889622   \n",
       "\n",
       "  Max_after_denoised Min_after_denoised Mean_after_denoised  \\\n",
       "0         0.65423584        -0.76345825       -2.699632e-08   \n",
       "1          0.5375061        -0.47183228       1.0024613e-06   \n",
       "2         0.44641113        -0.47470093       1.3798474e-05   \n",
       "3         0.44207764        -0.55718994      -3.0327021e-06   \n",
       "4         0.32235718         -0.3694458       1.4427932e-06   \n",
       "\n",
       "  Std_after_denoised  Noise_level_after_denoised  \n",
       "0         0.07657743                   -9.316335  \n",
       "1        0.090305954                   -7.746670  \n",
       "2         0.03827656                  -10.668021  \n",
       "3         0.05851719                   -8.782151  \n",
       "4        0.044849005                   -8.565845  "
      ]
     },
     "execution_count": 14,
     "metadata": {},
     "output_type": "execute_result"
    }
   ],
   "source": [
    "stat_bahna_spectral_subtraction.head()"
   ]
  },
  {
   "cell_type": "code",
   "execution_count": 15,
   "id": "8fa17d7f-85db-4241-8675-fbf73ad47d10",
   "metadata": {},
   "outputs": [
    {
     "data": {
      "text/plain": [
       "48000"
      ]
     },
     "execution_count": 15,
     "metadata": {},
     "output_type": "execute_result"
    }
   ],
   "source": [
    "sample_rate"
   ]
  },
  {
   "cell_type": "markdown",
   "id": "31530017-c342-41da-ad7c-e573c18e8161",
   "metadata": {},
   "source": [
    "### FRCRN method"
   ]
  },
  {
   "cell_type": "markdown",
   "id": "f9d55f98-2e3e-40f0-b5ec-3fda6a5195eb",
   "metadata": {},
   "source": [
    "This model use a fixed input with Sampling frequency is 16khz so we have to resample the input before we put it into our model"
   ]
  },
  {
   "cell_type": "code",
   "execution_count": 24,
   "id": "e299eb1a-f3f0-4b81-b12c-f6a92babf4ca",
   "metadata": {},
   "outputs": [],
   "source": [
    "# Example usage resample to 16khz\n",
    "input_directory = r'C:\\Projects\\Denoise-module-main\\Denoise-module-main\\Test'\n",
    "output_directory = r'C:\\Projects\\Denoise-module-main\\Denoise-module-main\\testTarget'\n",
    "target_sampling_rate = 16000\n",
    "\n",
    "resample_wav_files(input_directory, output_directory, target_sampling_rate)"
   ]
  },
  {
   "cell_type": "markdown",
   "id": "b4c509e1-e2d3-448f-8907-03183afb765c",
   "metadata": {},
   "source": [
    "#### Define path to denoised"
   ]
  },
  {
   "cell_type": "code",
   "execution_count": 5,
   "id": "7611030e-57df-4ad3-ad48-b5715c1b1545",
   "metadata": {},
   "outputs": [
    {
     "data": {
      "text/plain": [
       "WindowsPath('C:/Projects/Denoise-module-main/Denoise-module-main/Test/0001.1.wav')"
      ]
     },
     "execution_count": 5,
     "metadata": {},
     "output_type": "execute_result"
    }
   ],
   "source": [
    "bahna_dataset_FRCRN = sorted(list(Path(r\"C:\\Projects\\Denoise-module-main\\Denoise-module-main\\Test\").rglob('*.wav')))\n",
    "bahna_dataset_FRCRN[0]"
   ]
  },
  {
   "cell_type": "code",
   "execution_count": 26,
   "id": "eb972edd-b18b-4bb7-a006-486a05456afc",
   "metadata": {},
   "outputs": [
    {
     "data": {
      "text/html": [
       "<div>\n",
       "<style scoped>\n",
       "    .dataframe tbody tr th:only-of-type {\n",
       "        vertical-align: middle;\n",
       "    }\n",
       "\n",
       "    .dataframe tbody tr th {\n",
       "        vertical-align: top;\n",
       "    }\n",
       "\n",
       "    .dataframe thead th {\n",
       "        text-align: right;\n",
       "    }\n",
       "</style>\n",
       "<table border=\"1\" class=\"dataframe\">\n",
       "  <thead>\n",
       "    <tr style=\"text-align: right;\">\n",
       "      <th></th>\n",
       "      <th>Name</th>\n",
       "      <th>Max</th>\n",
       "      <th>Min</th>\n",
       "      <th>Mean</th>\n",
       "      <th>Std</th>\n",
       "      <th>Noise_level_before_denoised</th>\n",
       "      <th>Max_after_denoised</th>\n",
       "      <th>Min_after_denoised</th>\n",
       "      <th>Mean_after_denoised</th>\n",
       "      <th>Std_after_denoised</th>\n",
       "      <th>Noise_level_after_denoised</th>\n",
       "    </tr>\n",
       "  </thead>\n",
       "  <tbody>\n",
       "  </tbody>\n",
       "</table>\n",
       "</div>"
      ],
      "text/plain": [
       "Empty DataFrame\n",
       "Columns: [Name, Max, Min, Mean, Std, Noise_level_before_denoised, Max_after_denoised, Min_after_denoised, Mean_after_denoised, Std_after_denoised, Noise_level_after_denoised]\n",
       "Index: []"
      ]
     },
     "execution_count": 26,
     "metadata": {},
     "output_type": "execute_result"
    }
   ],
   "source": [
    "stat_bahna_FRCRN = pd.DataFrame(columns=['Name','Max', 'Min', 'Mean','Std','Noise_level_before_denoised','Max_after_denoised', 'Min_after_denoised', 'Mean_after_denoised','Std_after_denoised','Noise_level_after_denoised'])\n",
    "stat_bahna_FRCRN"
   ]
  },
  {
   "cell_type": "code",
   "execution_count": null,
   "id": "20dd07c3-1261-4f81-884c-18d75e40eb8e",
   "metadata": {},
   "outputs": [],
   "source": [
    "from modelscope.pipelines import pipeline\n",
    "from modelscope.utils.constant import Tasks\n"
   ]
  },
  {
   "cell_type": "code",
   "execution_count": 6,
   "id": "12619a12-fb5b-47a2-b46d-935eb6204478",
   "metadata": {
    "scrolled": true
   },
   "outputs": [
    {
     "name": "stdout",
     "output_type": "stream",
     "text": [
      "C:\\Projects\\Denoise-module-main\\Denoise-module-main\\Test\\0001.1.wav\n"
     ]
    },
    {
     "ename": "NameError",
     "evalue": "name 'get_stats' is not defined",
     "output_type": "error",
     "traceback": [
      "\u001b[1;31m---------------------------------------------------------------------------\u001b[0m",
      "\u001b[1;31mNameError\u001b[0m                                 Traceback (most recent call last)",
      "Cell \u001b[1;32mIn[6], line 4\u001b[0m\n\u001b[0;32m      2\u001b[0m \u001b[38;5;28mprint\u001b[39m(i)\n\u001b[0;32m      3\u001b[0m waveform, sample_rate \u001b[38;5;241m=\u001b[39m torchaudio\u001b[38;5;241m.\u001b[39mload(i)\n\u001b[1;32m----> 4\u001b[0m max_,min_,mean_,std_ \u001b[38;5;241m=\u001b[39m \u001b[43mget_stats\u001b[49m(waveform, sample_rate \u001b[38;5;241m=\u001b[39m sample_rate)\n\u001b[0;32m      5\u001b[0m \u001b[38;5;28;01mif\u001b[39;00m std_\u001b[38;5;241m!=\u001b[39m\u001b[38;5;241m0\u001b[39m :\n\u001b[0;32m      6\u001b[0m     noise_level \u001b[38;5;241m=\u001b[39m \u001b[38;5;241m10\u001b[39m\u001b[38;5;241m*\u001b[39m( np\u001b[38;5;241m.\u001b[39mlog10(std_\u001b[38;5;241m/\u001b[39mmax_))\n",
      "\u001b[1;31mNameError\u001b[0m: name 'get_stats' is not defined"
     ]
    }
   ],
   "source": [
    "for i in bahna_dataset_FRCRN:\n",
    "    print(i)\n",
    "    waveform, sample_rate = torchaudio.load(i)\n",
    "    max_,min_,mean_,std_ = get_stats(waveform, sample_rate = sample_rate)\n",
    "    if std_!=0 :\n",
    "        noise_level = 10*( np.log10(std_/max_))\n",
    "    else:\n",
    "        noise_level = 0\n",
    "    # df = pd.DataFrame({\"Name\":[i],\"Std\":[std_],\"Noise_level\":[noise_level]})\n",
    "    # stat_bahna=pd.concat([stat_bahna,df], ignore_index=True)\n",
    "    normalized_path = os.path.normpath(i)\n",
    "    input_path = os.path.splitext(normalized_path)[0] + os.path.splitext(normalized_path)[1]\n",
    "    denoised_path = os.path.splitext(normalized_path)[0] + \"_denoised_FRCRN\" + os.path.splitext(normalized_path)[1]\n",
    "    \n",
    "    # denoised audio    \n",
    "    ans = pipeline(\n",
    "        Tasks.acoustic_noise_suppression,\n",
    "        model='./demo_model')\n",
    "    result = ans(\n",
    "        str(i),\n",
    "        output_path=denoised_path)\n",
    "    print(denoised_path)\n",
    "    waveform_denoised, sample_rate_denoised = torchaudio.load(denoised_path)\n",
    "    max_after,min_after,mean_after,std_after=get_stats(waveform_denoised, sample_rate=sample_rate_denoised)\n",
    "    if std_after!=0 :\n",
    "        noise_level_after = 10*( np.log10(std_after/max_after))\n",
    "    else:\n",
    "        noise_level_after = 0\n",
    "    df_FRCRN = pd.DataFrame({\"Name\":[i],\"Max\":[max_],\"Min\":[min_],\"Mean\":[mean_],\"Std\":[std_],\"Noise_level_before_denoised\":[noise_level],'Max_after_denoised':[max_after], 'Min_after_denoised':[min_after], 'Mean_after_denoised':[mean_after],'Std_after_denoised':[std_after],'Noise_level_after_denoised':[noise_level_after]})\n",
    "    stat_bahna_FRCRN=pd.concat([stat_bahna_FRCRN,df_FRCRN], ignore_index=True)"
   ]
  },
  {
   "cell_type": "code",
   "execution_count": 29,
   "id": "e9065f53-150e-40d9-ba58-0de8bd28ceb5",
   "metadata": {},
   "outputs": [
    {
     "data": {
      "text/html": [
       "<div>\n",
       "<style scoped>\n",
       "    .dataframe tbody tr th:only-of-type {\n",
       "        vertical-align: middle;\n",
       "    }\n",
       "\n",
       "    .dataframe tbody tr th {\n",
       "        vertical-align: top;\n",
       "    }\n",
       "\n",
       "    .dataframe thead th {\n",
       "        text-align: right;\n",
       "    }\n",
       "</style>\n",
       "<table border=\"1\" class=\"dataframe\">\n",
       "  <thead>\n",
       "    <tr style=\"text-align: right;\">\n",
       "      <th></th>\n",
       "      <th>Name</th>\n",
       "      <th>Max</th>\n",
       "      <th>Min</th>\n",
       "      <th>Mean</th>\n",
       "      <th>Std</th>\n",
       "      <th>Noise_level_before_denoised</th>\n",
       "      <th>Max_after_denoised</th>\n",
       "      <th>Min_after_denoised</th>\n",
       "      <th>Mean_after_denoised</th>\n",
       "      <th>Std_after_denoised</th>\n",
       "      <th>Noise_level_after_denoised</th>\n",
       "    </tr>\n",
       "  </thead>\n",
       "  <tbody>\n",
       "    <tr>\n",
       "      <th>0</th>\n",
       "      <td>D:\\Master\\denoise_FRCRN_resample\\ITTF-LTHDT-CH...</td>\n",
       "      <td>0.40127563</td>\n",
       "      <td>-0.31082153</td>\n",
       "      <td>-1.4884367e-05</td>\n",
       "      <td>0.02736577</td>\n",
       "      <td>-11.662351</td>\n",
       "      <td>0.45220947</td>\n",
       "      <td>-0.33789062</td>\n",
       "      <td>-3.996443e-06</td>\n",
       "      <td>0.024485594</td>\n",
       "      <td>-12.664291</td>\n",
       "    </tr>\n",
       "    <tr>\n",
       "      <th>1</th>\n",
       "      <td>D:\\Master\\denoise_FRCRN_resample\\ITTF-LTHDT-CH...</td>\n",
       "      <td>0.31600952</td>\n",
       "      <td>-0.33432007</td>\n",
       "      <td>-1.4867977e-05</td>\n",
       "      <td>0.024471296</td>\n",
       "      <td>-11.110432</td>\n",
       "      <td>0.29574585</td>\n",
       "      <td>-0.2623291</td>\n",
       "      <td>-2.0226918e-05</td>\n",
       "      <td>0.016821647</td>\n",
       "      <td>-12.450502</td>\n",
       "    </tr>\n",
       "    <tr>\n",
       "      <th>2</th>\n",
       "      <td>D:\\Master\\denoise_FRCRN_resample\\ITTF-LTHDT-CH...</td>\n",
       "      <td>0.17416382</td>\n",
       "      <td>-0.1734314</td>\n",
       "      <td>-1.4398085e-05</td>\n",
       "      <td>0.02409477</td>\n",
       "      <td>-8.590352</td>\n",
       "      <td>0.30462646</td>\n",
       "      <td>-0.24615479</td>\n",
       "      <td>-1.7838076e-05</td>\n",
       "      <td>0.016721833</td>\n",
       "      <td>-12.604837</td>\n",
       "    </tr>\n",
       "    <tr>\n",
       "      <th>3</th>\n",
       "      <td>D:\\Master\\denoise_FRCRN_resample\\ITTF-LTHDT-CH...</td>\n",
       "      <td>0.4972229</td>\n",
       "      <td>-0.41744995</td>\n",
       "      <td>-1.5246733e-05</td>\n",
       "      <td>0.01634957</td>\n",
       "      <td>-14.830447</td>\n",
       "      <td>0.17391968</td>\n",
       "      <td>-0.18292236</td>\n",
       "      <td>-3.1963084e-06</td>\n",
       "      <td>0.014651101</td>\n",
       "      <td>-10.744785</td>\n",
       "    </tr>\n",
       "    <tr>\n",
       "      <th>4</th>\n",
       "      <td>D:\\Master\\denoise_FRCRN_resample\\ITTF-LTHDT-CH...</td>\n",
       "      <td>0.57547</td>\n",
       "      <td>-0.4179077</td>\n",
       "      <td>-1.4917162e-05</td>\n",
       "      <td>0.01583354</td>\n",
       "      <td>-15.604447</td>\n",
       "      <td>0.20446777</td>\n",
       "      <td>-0.21505737</td>\n",
       "      <td>-3.3472586e-06</td>\n",
       "      <td>0.016336245</td>\n",
       "      <td>-10.974725</td>\n",
       "    </tr>\n",
       "  </tbody>\n",
       "</table>\n",
       "</div>"
      ],
      "text/plain": [
       "                                                Name         Max          Min  \\\n",
       "0  D:\\Master\\denoise_FRCRN_resample\\ITTF-LTHDT-CH...  0.40127563  -0.31082153   \n",
       "1  D:\\Master\\denoise_FRCRN_resample\\ITTF-LTHDT-CH...  0.31600952  -0.33432007   \n",
       "2  D:\\Master\\denoise_FRCRN_resample\\ITTF-LTHDT-CH...  0.17416382   -0.1734314   \n",
       "3  D:\\Master\\denoise_FRCRN_resample\\ITTF-LTHDT-CH...   0.4972229  -0.41744995   \n",
       "4  D:\\Master\\denoise_FRCRN_resample\\ITTF-LTHDT-CH...     0.57547   -0.4179077   \n",
       "\n",
       "             Mean          Std  Noise_level_before_denoised  \\\n",
       "0  -1.4884367e-05   0.02736577                   -11.662351   \n",
       "1  -1.4867977e-05  0.024471296                   -11.110432   \n",
       "2  -1.4398085e-05   0.02409477                    -8.590352   \n",
       "3  -1.5246733e-05   0.01634957                   -14.830447   \n",
       "4  -1.4917162e-05   0.01583354                   -15.604447   \n",
       "\n",
       "  Max_after_denoised Min_after_denoised Mean_after_denoised  \\\n",
       "0         0.45220947        -0.33789062       -3.996443e-06   \n",
       "1         0.29574585         -0.2623291      -2.0226918e-05   \n",
       "2         0.30462646        -0.24615479      -1.7838076e-05   \n",
       "3         0.17391968        -0.18292236      -3.1963084e-06   \n",
       "4         0.20446777        -0.21505737      -3.3472586e-06   \n",
       "\n",
       "  Std_after_denoised  Noise_level_after_denoised  \n",
       "0        0.024485594                  -12.664291  \n",
       "1        0.016821647                  -12.450502  \n",
       "2        0.016721833                  -12.604837  \n",
       "3        0.014651101                  -10.744785  \n",
       "4        0.016336245                  -10.974725  "
      ]
     },
     "execution_count": 29,
     "metadata": {},
     "output_type": "execute_result"
    }
   ],
   "source": [
    "stat_bahna_FRCRN.head()"
   ]
  },
  {
   "cell_type": "markdown",
   "id": "d8b2c3bc-5815-4c1c-85b6-3f679844afdd",
   "metadata": {},
   "source": [
    "### Evaluation (PESQ, STOI)"
   ]
  },
  {
   "cell_type": "markdown",
   "id": "3ffa62a9-70be-446c-a14a-47f1bb4f4d50",
   "metadata": {},
   "source": [
    "PESQ Score only support for sampling rate Fs = 8khz (defined as narrow band) or 16khz (defined as wide band) only so we have to resample it"
   ]
  },
  {
   "cell_type": "code",
   "execution_count": 54,
   "id": "b0db3dc4-68c8-48c2-bf7e-9073022d9fc5",
   "metadata": {},
   "outputs": [],
   "source": [
    "# Example usage resample to 16khz\n",
    "# input_directory = r'D:/Master/Thesis/FRCRN/Summary/Test/'\n",
    "# output_directory = 'D:/Master/Thesis/FRCRN/Summary/Test resample'\n",
    "# target_sampling_rate = 16000\n",
    "\n",
    "# resample_wav_files(input_directory, output_directory, target_sampling_rate)"
   ]
  },
  {
   "cell_type": "code",
   "execution_count": null,
   "id": "e974d8d4-e268-4c9a-b3a7-119ce108b715",
   "metadata": {},
   "outputs": [],
   "source": [
    "# Example usage Datasets/clean_testset_wav\n",
    "# input_directory = 'D:\\Master\\Thesis\\FRCRN\\CTV bana to add noise\\Bình Định'\n",
    "# output_file = 'D:\\Master\\Thesis\\FRCRN\\CTV bana to add noise\\Bình Định only'\n",
    "\n",
    "# copy_wav_files_to_single_directory(input_directory, output_file)"
   ]
  },
  {
   "cell_type": "markdown",
   "id": "ad086a35-43b3-4659-9c97-f9fea33e1a82",
   "metadata": {},
   "source": [
    "#### Example evaluate PESQ (wide band - 16khz) and STOI for 1 clean - denoised"
   ]
  },
  {
   "cell_type": "code",
   "execution_count": 69,
   "id": "1cb578b8-3eaa-49b2-a244-43f39f5233a6",
   "metadata": {},
   "outputs": [],
   "source": [
    "m = 'D:/Master/Thesis/FRCRN/Summary/Test resample/0001.1.wav'\n",
    "n = 'D:/Master/Thesis/FRCRN/Summary/Test resample/0001.1_denoised_FRCRN.wav'\n",
    "waveform, sample_rate = torchaudio.load(m)\n",
    "waveform_denoised, sample_rate_denoised = torchaudio.load(n)"
   ]
  },
  {
   "cell_type": "markdown",
   "id": "ccf0a122-193e-48d5-b783-528898772816",
   "metadata": {
    "collapsed": true,
    "jupyter": {
     "outputs_hidden": true
    }
   },
   "source": [
    "!pip install torchmetrics"
   ]
  },
  {
   "cell_type": "code",
   "execution_count": 70,
   "id": "e473ee0f-f080-47b0-9a0c-fb214ff40081",
   "metadata": {},
   "outputs": [
    {
     "data": {
      "text/plain": [
       "4.433448314666748"
      ]
     },
     "execution_count": 70,
     "metadata": {},
     "output_type": "execute_result"
    }
   ],
   "source": [
    "from torchmetrics.audio import PerceptualEvaluationSpeechQuality\n",
    "# pesq = PerceptualEvaluationSpeechQuality(8000, 'nb')\n",
    "# pesq(preds, target)\n",
    "\n",
    "wb_pesq = PerceptualEvaluationSpeechQuality(sample_rate, 'wb')\n",
    "wb_pesq(waveform_denoised,waveform).item()"
   ]
  },
  {
   "cell_type": "code",
   "execution_count": 71,
   "id": "8ff2de43-9b00-4e7a-bd28-26401054f2da",
   "metadata": {},
   "outputs": [
    {
     "data": {
      "text/plain": [
       "0.9990944266319275"
      ]
     },
     "execution_count": 71,
     "metadata": {},
     "output_type": "execute_result"
    }
   ],
   "source": [
    "from torchmetrics.audio.stoi import ShortTimeObjectiveIntelligibility\n",
    "stoi = ShortTimeObjectiveIntelligibility(sample_rate, False)\n",
    "stoi(waveform_denoised,waveform).item()"
   ]
  },
  {
   "cell_type": "markdown",
   "id": "0b5feefd-b6a3-44b9-8936-da07c2686831",
   "metadata": {},
   "source": [
    "#### To evaluate multiple sample at one"
   ]
  },
  {
   "cell_type": "code",
   "execution_count": 72,
   "id": "a5aebea0-5c89-4d14-a5ae-1f9f79e3665b",
   "metadata": {},
   "outputs": [],
   "source": [
    "metrics = pd.DataFrame(columns=['PESQ','STOI'])"
   ]
  },
  {
   "cell_type": "code",
   "execution_count": null,
   "id": "f83dda1d-272a-4413-af06-da1204625b0a",
   "metadata": {},
   "outputs": [],
   "source": [
    "for i in bahna_dataset_FRCRN:\n",
    "    print(i)\n",
    "    waveform, sample_rate = torchaudio.load(i)\n",
    "    #normalized_path = os.path.normpath(i)\n",
    "    denoised_path = os.path.splitext(i)[0] + \"_denoised_FRCRN\" + os.path.splitext(i)[1]\n",
    "    waveform_denoised, sample_rate_denoised = torchaudio.load(denoised_path)\n",
    "    print(denoised_path)\n",
    "    wb_pesq = PerceptualEvaluationSpeechQuality(sample_rate, 'wb')\n",
    "    stoi = ShortTimeObjectiveIntelligibility(sample_rate, False)\n",
    "    metric = pd.DataFrame({\"PESQ\":[wb_pesq(waveform, waveform_denoised)],\"STOI\":[stoi(waveform, waveform_denoised)]})\n",
    "    metrics = pd.concat([metrics,metric], ignore_index=True)"
   ]
  },
  {
   "cell_type": "code",
   "execution_count": 74,
   "id": "3e8f2526-b10c-4f69-89ce-5716af851226",
   "metadata": {},
   "outputs": [
    {
     "data": {
      "text/html": [
       "<div>\n",
       "<style scoped>\n",
       "    .dataframe tbody tr th:only-of-type {\n",
       "        vertical-align: middle;\n",
       "    }\n",
       "\n",
       "    .dataframe tbody tr th {\n",
       "        vertical-align: top;\n",
       "    }\n",
       "\n",
       "    .dataframe thead th {\n",
       "        text-align: right;\n",
       "    }\n",
       "</style>\n",
       "<table border=\"1\" class=\"dataframe\">\n",
       "  <thead>\n",
       "    <tr style=\"text-align: right;\">\n",
       "      <th></th>\n",
       "      <th>PESQ</th>\n",
       "      <th>STOI</th>\n",
       "    </tr>\n",
       "  </thead>\n",
       "  <tbody>\n",
       "    <tr>\n",
       "      <th>0</th>\n",
       "      <td>tensor(4.1133)</td>\n",
       "      <td>tensor(0.9992)</td>\n",
       "    </tr>\n",
       "    <tr>\n",
       "      <th>1</th>\n",
       "      <td>tensor(1.9175)</td>\n",
       "      <td>tensor(0.9248)</td>\n",
       "    </tr>\n",
       "    <tr>\n",
       "      <th>2</th>\n",
       "      <td>tensor(2.6582)</td>\n",
       "      <td>tensor(0.9736)</td>\n",
       "    </tr>\n",
       "    <tr>\n",
       "      <th>3</th>\n",
       "      <td>tensor(2.6802)</td>\n",
       "      <td>tensor(0.9624)</td>\n",
       "    </tr>\n",
       "    <tr>\n",
       "      <th>4</th>\n",
       "      <td>tensor(4.3995)</td>\n",
       "      <td>tensor(0.9952)</td>\n",
       "    </tr>\n",
       "  </tbody>\n",
       "</table>\n",
       "</div>"
      ],
      "text/plain": [
       "             PESQ            STOI\n",
       "0  tensor(4.1133)  tensor(0.9992)\n",
       "1  tensor(1.9175)  tensor(0.9248)\n",
       "2  tensor(2.6582)  tensor(0.9736)\n",
       "3  tensor(2.6802)  tensor(0.9624)\n",
       "4  tensor(4.3995)  tensor(0.9952)"
      ]
     },
     "execution_count": 74,
     "metadata": {},
     "output_type": "execute_result"
    }
   ],
   "source": [
    "metrics"
   ]
  }
 ],
 "metadata": {
  "kernelspec": {
   "display_name": "Python 3 (ipykernel)",
   "language": "python",
   "name": "python3"
  },
  "language_info": {
   "codemirror_mode": {
    "name": "ipython",
    "version": 3
   },
   "file_extension": ".py",
   "mimetype": "text/x-python",
   "name": "python",
   "nbconvert_exporter": "python",
   "pygments_lexer": "ipython3",
   "version": "3.12.4"
  }
 },
 "nbformat": 4,
 "nbformat_minor": 5
}
